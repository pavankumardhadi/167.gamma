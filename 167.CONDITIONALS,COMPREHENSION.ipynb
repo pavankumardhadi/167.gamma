{
 "cells": [
  {
   "cell_type": "code",
   "execution_count": null,
   "id": "a074282f-3eb7-4172-88e5-a420a65af5b7",
   "metadata": {},
   "outputs": [],
   "source": [
    "# Conventional if-else \n",
    "num = 6 \n",
    "if  num %2== 0:\n",
    "    print(\"even\")\n",
    "else:\n",
    "    print(\"odd\")"
   ]
  },
  {
   "cell_type": "code",
   "execution_count": 9,
   "id": "dc67202c-9dd9-40e0-b6e4-df16d448f773",
   "metadata": {},
   "outputs": [
    {
     "name": "stdout",
     "output_type": "stream",
     "text": [
      "even\n"
     ]
    }
   ],
   "source": [
    "print(\"even\") if num%2 == 0 else print(\"odd\")"
   ]
  },
  {
   "cell_type": "code",
   "execution_count": 15,
   "id": "a8fae782-cd1b-4384-a0e8-0fc797d6a307",
   "metadata": {},
   "outputs": [
    {
     "name": "stdout",
     "output_type": "stream",
     "text": [
      "Zero\n"
     ]
    }
   ],
   "source": [
    "#nested if-else in one line\n",
    "num = 0 \n",
    "result = \"Positive\" if num > 0 else (\"Negative\" if num < 0 else \"Zero\") \n",
    "print(result)"
   ]
  },
  {
   "cell_type": "markdown",
   "id": "46799abd-19f6-4850-8048-c18b6b9228d3",
   "metadata": {},
   "source": [
    "# list comprehension"
   ]
  },
  {
   "cell_type": "code",
   "execution_count": 17,
   "id": "ab1a39ba-2228-4871-a1e1-6d7b6f1a8fcb",
   "metadata": {},
   "outputs": [
    {
     "data": {
      "text/plain": [
       "[2, 18, 4, 20, 112, 178]"
      ]
     },
     "execution_count": 17,
     "metadata": {},
     "output_type": "execute_result"
    }
   ],
   "source": [
    "L =[1,9,2,10,56,89]\n",
    "[2*x for x in L]"
   ]
  },
  {
   "cell_type": "code",
   "execution_count": 18,
   "id": "e2183e7b-7d56-4bea-955a-07f6e162a9af",
   "metadata": {},
   "outputs": [
    {
     "data": {
      "text/plain": [
       "[2, 10, 56]"
      ]
     },
     "execution_count": 18,
     "metadata": {},
     "output_type": "execute_result"
    }
   ],
   "source": [
    "# Print even numbers\n",
    "L = [1,9,2,10,56,89]\n",
    "[x for x in L if x%2 == 0]"
   ]
  },
  {
   "cell_type": "code",
   "execution_count": 20,
   "id": "bcab3313-59bf-48f5-a755-9bf4d6dfb821",
   "metadata": {},
   "outputs": [
    {
     "data": {
      "text/plain": [
       "[1, 9, 89]"
      ]
     },
     "execution_count": 20,
     "metadata": {},
     "output_type": "execute_result"
    }
   ],
   "source": [
    "# Print odd numbers\n",
    "L = [1,9,2,10,56,89]\n",
    "[x for x in L if x%2 == 1]"
   ]
  },
  {
   "cell_type": "code",
   "execution_count": 25,
   "id": "585e7b8a-093b-4c69-9ec0-b3f884ccc1cb",
   "metadata": {},
   "outputs": [
    {
     "data": {
      "text/plain": [
       "27.833333333333332"
      ]
     },
     "execution_count": 25,
     "metadata": {},
     "output_type": "execute_result"
    }
   ],
   "source": [
    "# Print average value of the list numbers\n",
    "L = [1,9,2,10,56,89]\n",
    "sum([ x for x in L])/len(L)"
   ]
  },
  {
   "cell_type": "code",
   "execution_count": 26,
   "id": "d1ff93ee-51ee-4fa2-afae-9f060f7f8878",
   "metadata": {},
   "outputs": [
    {
     "data": {
      "text/plain": [
       "{'Ram': [70, 71, 98, 100], 'John': [56, 98, 67, 65]}"
      ]
     },
     "execution_count": 26,
     "metadata": {},
     "output_type": "execute_result"
    }
   ],
   "source": [
    "# dictionary comprehension\n",
    "d1 = {'Ram':[70,71,98,100], 'John':[56,98,67,65]}\n",
    "d1"
   ]
  },
  {
   "cell_type": "code",
   "execution_count": 29,
   "id": "3274bd19-4ed9-41ec-9149-81ba9f09dfa6",
   "metadata": {},
   "outputs": [
    {
     "data": {
      "text/plain": [
       "{'Ram': 84.75, 'John': 71.5}"
      ]
     },
     "execution_count": 29,
     "metadata": {},
     "output_type": "execute_result"
    }
   ],
   "source": [
    "{k:sum(v)/len(v) for k,v in d1.items()}"
   ]
  }
 ],
 "metadata": {
  "kernelspec": {
   "display_name": "Python 3 (ipykernel)",
   "language": "python",
   "name": "python3"
  },
  "language_info": {
   "codemirror_mode": {
    "name": "ipython",
    "version": 3
   },
   "file_extension": ".py",
   "mimetype": "text/x-python",
   "name": "python",
   "nbconvert_exporter": "python",
   "pygments_lexer": "ipython3",
   "version": "3.12.7"
  }
 },
 "nbformat": 4,
 "nbformat_minor": 5
}
