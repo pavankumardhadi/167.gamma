{
 "cells": [
  {
   "cell_type": "code",
   "execution_count": 4,
   "id": "b53d0387-6d16-40a1-98eb-c88430e71965",
   "metadata": {},
   "outputs": [
    {
     "name": "stdout",
     "output_type": "stream",
     "text": [
      "[['apple', 10], ['banana', 5], ['cherry', 10], ['dragon', 10], ['grape', 9], ['apple', 20]]\n",
      "[['apple', 10], ['banana', 5], ['cherry', 10], ['dragon', 10], ['grape', 9], ['apple', 20], ['apples', 10]]\n",
      "[10, 20]\n",
      "30\n"
     ]
    }
   ],
   "source": [
    "orders = [['apple', 10], ['banana', 5], ['cherry', 7], ['dragon', 10], ['grape', 9], ['apple', 20]]\n",
    "\n",
    "for each in orders:\n",
    "    if each[0] == \"cherry\":\n",
    "        each[1] = 10\n",
    "        print(orders)\n",
    "orders.append(['apples', 10])\n",
    "print(orders)\n",
    "total = []\n",
    "for each_item in orders:\n",
    "    if each_item[0] == \"apple\":\n",
    "        total.append(each_item[1])\n",
    "print(total)\n",
    "print(sum(total))\n"
   ]
  },
  {
   "cell_type": "code",
   "execution_count": 8,
   "id": "2373527e-6b2b-4177-93e6-03f7a9eecfdc",
   "metadata": {},
   "outputs": [
    {
     "name": "stdout",
     "output_type": "stream",
     "text": [
      "(4, 10, 9, 'A', 9.81, False, (9-6j))\n",
      "<class 'tuple'>\n"
     ]
    },
    {
     "data": {
      "text/plain": [
       "(9.81, False)"
      ]
     },
     "execution_count": 8,
     "metadata": {},
     "output_type": "execute_result"
    }
   ],
   "source": [
    "tup1 = (4,10,9,\"A\",9.81, False, 9-6j)\n",
    "print (tup1)\n",
    "print (type(tup1))\n",
    "tup1 [4:6]\n"
   ]
  },
  {
   "cell_type": "code",
   "execution_count": 9,
   "id": "d7bb2d32-fb7d-4bda-a1e0-271e6f4c1074",
   "metadata": {},
   "outputs": [
    {
     "data": {
      "text/plain": [
       "4"
      ]
     },
     "execution_count": 9,
     "metadata": {},
     "output_type": "execute_result"
    }
   ],
   "source": [
    "tup2 = (10,20,1,10,10,30,10)\n",
    "tup2.count(10)"
   ]
  },
  {
   "cell_type": "code",
   "execution_count": 2,
   "id": "b37dd0d2-51b8-4a65-82c2-c87d1f8abced",
   "metadata": {},
   "outputs": [],
   "source": [
    "lst1 = [1, 2, 9, 0, 10, 20,78, 8,8,8]"
   ]
  },
  {
   "cell_type": "code",
   "execution_count": 3,
   "id": "94f966ba-14c0-4331-b87c-756e2aeb895e",
   "metadata": {},
   "outputs": [],
   "source": [
    "s1 = {1,2,3,4,5}\n",
    "s2 = {1,2,3}"
   ]
  },
  {
   "cell_type": "code",
   "execution_count": 4,
   "id": "fa8628d3-8c4c-4659-a12d-1048569eb35c",
   "metadata": {},
   "outputs": [
    {
     "data": {
      "text/plain": [
       "True"
      ]
     },
     "execution_count": 4,
     "metadata": {},
     "output_type": "execute_result"
    }
   ],
   "source": [
    "s2.issubset(s1)"
   ]
  },
  {
   "cell_type": "code",
   "execution_count": 5,
   "id": "2ab538ed-3eb0-4036-a7b1-27ce547ce2a9",
   "metadata": {},
   "outputs": [
    {
     "data": {
      "text/plain": [
       "False"
      ]
     },
     "execution_count": 5,
     "metadata": {},
     "output_type": "execute_result"
    }
   ],
   "source": [
    "s2.issuperset(s1)"
   ]
  },
  {
   "cell_type": "code",
   "execution_count": null,
   "id": "50f2afc2-7637-4984-a910-1892749fbae4",
   "metadata": {},
   "outputs": [],
   "source": []
  }
 ],
 "metadata": {
  "kernelspec": {
   "display_name": "Python 3 (ipykernel)",
   "language": "python",
   "name": "python3"
  },
  "language_info": {
   "codemirror_mode": {
    "name": "ipython",
    "version": 3
   },
   "file_extension": ".py",
   "mimetype": "text/x-python",
   "name": "python",
   "nbconvert_exporter": "python",
   "pygments_lexer": "ipython3",
   "version": "3.12.7"
  }
 },
 "nbformat": 4,
 "nbformat_minor": 5
}
