{
 "cells": [
  {
   "cell_type": "code",
   "execution_count": 2,
   "id": "9c81df51-c2c6-4d67-b85c-ddaab133d2c1",
   "metadata": {},
   "outputs": [],
   "source": [
    "import numpy as np\n",
    "from scipy.spatial.distance import cosine, euclidean\n",
    "from scipy.stats import pearsonr"
   ]
  },
  {
   "cell_type": "code",
   "execution_count": 8,
   "id": "3d934f1d-c093-40c0-9b76-f9f0d68ca130",
   "metadata": {},
   "outputs": [],
   "source": [
    "# Sample user rating data\n",
    "user1 = np.array([4, 5, 2, 3, 4])\n",
    "user2 = np.array([5, 3, 2, 4, 5])"
   ]
  },
  {
   "cell_type": "code",
   "execution_count": 9,
   "id": "8e247e0a-4fba-4209-abed-c6f02a5f2d45",
   "metadata": {},
   "outputs": [
    {
     "name": "stdout",
     "output_type": "stream",
     "text": [
      "Cosine Similarity:0.9548\n"
     ]
    }
   ],
   "source": [
    "#1 Cosine Similarity; (1 - cosine distance) gives similarity)\n",
    "Cosine_Similarity = 1 - cosine(user1, user2)\n",
    "print(f\"Cosine Similarity:{Cosine_Similarity:.4f}\")"
   ]
  },
  {
   "cell_type": "code",
   "execution_count": 10,
   "id": "1ba7d53d-572b-43de-bfd7-006a8dd72e94",
   "metadata": {},
   "outputs": [
    {
     "name": "stdout",
     "output_type": "stream",
     "text": [
      "Pearson Correlation Similarity: 0.4372\n"
     ]
    }
   ],
   "source": [
    "# 2.pearson Correlation similarity which returns correlation coefficient and p-value\n",
    "pearson_corr , _ = pearsonr(user1, user2)\n",
    "print(f\"Pearson Correlation Similarity: {pearson_corr:.4f}\")"
   ]
  },
  {
   "cell_type": "code",
   "execution_count": null,
   "id": "22dc6eca-126f-4ef2-8bcd-7d6ea032a3b9",
   "metadata": {},
   "outputs": [],
   "source": [
    " # Euclidean Distance Similarity\n"
   ]
  }
 ],
 "metadata": {
  "kernelspec": {
   "display_name": "Python 3 (ipykernel)",
   "language": "python",
   "name": "python3"
  },
  "language_info": {
   "codemirror_mode": {
    "name": "ipython",
    "version": 3
   },
   "file_extension": ".py",
   "mimetype": "text/x-python",
   "name": "python",
   "nbconvert_exporter": "python",
   "pygments_lexer": "ipython3",
   "version": "3.12.7"
  }
 },
 "nbformat": 4,
 "nbformat_minor": 5
}
