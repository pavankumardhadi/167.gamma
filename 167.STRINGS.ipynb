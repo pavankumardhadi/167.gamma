{
 "cells": [
  {
   "cell_type": "code",
   "execution_count": 1,
   "id": "4a81cc1a-374c-4d72-b35f-d7c38481bcd5",
   "metadata": {},
   "outputs": [
    {
     "name": "stdout",
     "output_type": "stream",
     "text": [
      "Welcome to aiml class\n",
      "We started with python\n",
      "This is an awesome class\n"
     ]
    }
   ],
   "source": [
    "str1 = \"Welcome to aiml class\"\n",
    "print(str1)\n",
    "str2 = 'We started with python'\n",
    "print(str2)\n",
    "str3 = '''This is an awesome class'''\n",
    "print(str3)"
   ]
  },
  {
   "cell_type": "code",
   "execution_count": 2,
   "id": "c94b4802-bf05-48fe-82f9-b3fc91570a06",
   "metadata": {},
   "outputs": [
    {
     "name": "stdout",
     "output_type": "stream",
     "text": [
      "<class 'str'>\n",
      "<class 'str'>\n",
      "<class 'str'>\n"
     ]
    }
   ],
   "source": [
    "print(type (str1))\n",
    "print(type (str2))\n",
    "print(type (str3))"
   ]
  },
  {
   "cell_type": "code",
   "execution_count": 3,
   "id": "176a6edc-2d51-4930-bcea-bf7af548e10b",
   "metadata": {},
   "outputs": [
    {
     "name": "stdout",
     "output_type": "stream",
     "text": [
      "Welcome to aiml class\n"
     ]
    },
    {
     "data": {
      "text/plain": [
       "'me to'"
      ]
     },
     "execution_count": 3,
     "metadata": {},
     "output_type": "execute_result"
    }
   ],
   "source": [
    "#Slicing in strings\n",
    "print(str1)\n",
    "str1[5:10]\n"
   ]
  },
  {
   "cell_type": "code",
   "execution_count": 4,
   "id": "eec5961b-34ec-49fb-a6a6-a99a14264025",
   "metadata": {},
   "outputs": [
    {
     "name": "stdout",
     "output_type": "stream",
     "text": [
      "Welcome to aiml class\n"
     ]
    },
    {
     "data": {
      "text/plain": [
       "['Welcome', 'to', 'aiml', 'class']"
      ]
     },
     "execution_count": 4,
     "metadata": {},
     "output_type": "execute_result"
    }
   ],
   "source": [
    "#Use of split\n",
    "print(str1)\n",
    "str1.split()"
   ]
  },
  {
   "cell_type": "code",
   "execution_count": 5,
   "id": "aad0f839-08fb-4aa3-8888-9a2acf63f6f6",
   "metadata": {},
   "outputs": [
    {
     "data": {
      "text/plain": [
       "'The product is awesome;Great Service'"
      ]
     },
     "execution_count": 5,
     "metadata": {},
     "output_type": "execute_result"
    }
   ],
   "source": [
    "#Use of join() method\n",
    "reviews = [\"The product is awesome\", \"Great Service\"]\n",
    "joined_string = ';'.join(reviews)\n",
    "joined_string"
   ]
  },
  {
   "cell_type": "code",
   "execution_count": 11,
   "id": "515a08a7-511a-4f5f-84a8-49883b45fd79",
   "metadata": {},
   "outputs": [
    {
     "data": {
      "text/plain": [
       "'Hello, How are you?'"
      ]
     },
     "execution_count": 11,
     "metadata": {},
     "output_type": "execute_result"
    }
   ],
   "source": [
    "#Use of strip() method\n",
    "str5 = \"    Hello, How are you?   \" \n",
    "str5.strip()"
   ]
  },
  {
   "cell_type": "code",
   "execution_count": 13,
   "id": "afc8a86b-27e1-40c2-a9f4-3d07b778ebd9",
   "metadata": {},
   "outputs": [
    {
     "data": {
      "text/plain": [
       "'    HELLO, HOW ARE YOU?   '"
      ]
     },
     "execution_count": 13,
     "metadata": {},
     "output_type": "execute_result"
    }
   ],
   "source": [
    "str5.upper()"
   ]
  },
  {
   "cell_type": "code",
   "execution_count": null,
   "id": "bdb2aad4-12a4-401a-bd9d-c7b03dff5598",
   "metadata": {},
   "outputs": [],
   "source": []
  }
 ],
 "metadata": {
  "kernelspec": {
   "display_name": "Python 3 (ipykernel)",
   "language": "python",
   "name": "python3"
  },
  "language_info": {
   "codemirror_mode": {
    "name": "ipython",
    "version": 3
   },
   "file_extension": ".py",
   "mimetype": "text/x-python",
   "name": "python",
   "nbconvert_exporter": "python",
   "pygments_lexer": "ipython3",
   "version": "3.12.7"
  }
 },
 "nbformat": 4,
 "nbformat_minor": 5
}
