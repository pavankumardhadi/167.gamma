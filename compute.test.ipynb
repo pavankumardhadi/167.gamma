{
 "cells": [
  {
   "cell_type": "code",
   "execution_count": 4,
   "id": "28e62d22-56c3-490d-9ab2-1af8800faae9",
   "metadata": {},
   "outputs": [],
   "source": [
    "import compute\n"
   ]
  },
  {
   "cell_type": "code",
   "execution_count": 5,
   "id": "3df84f18-93af-477a-9536-4061baf9d8dc",
   "metadata": {},
   "outputs": [
    {
     "data": {
      "text/plain": [
       "3.5"
      ]
     },
     "execution_count": 5,
     "metadata": {},
     "output_type": "execute_result"
    }
   ],
   "source": [
    "compute.mean_value(2,3,4,5)"
   ]
  },
  {
   "cell_type": "code",
   "execution_count": 6,
   "id": "35124c1d-1745-419e-b2e2-5bf4309d6d03",
   "metadata": {},
   "outputs": [
    {
     "data": {
      "text/plain": [
       "120"
      ]
     },
     "execution_count": 6,
     "metadata": {},
     "output_type": "execute_result"
    }
   ],
   "source": [
    "compute.product(2,3,4,5)"
   ]
  }
 ],
 "metadata": {
  "kernelspec": {
   "display_name": "Python 3 (ipykernel)",
   "language": "python",
   "name": "python3"
  },
  "language_info": {
   "codemirror_mode": {
    "name": "ipython",
    "version": 3
   },
   "file_extension": ".py",
   "mimetype": "text/x-python",
   "name": "python",
   "nbconvert_exporter": "python",
   "pygments_lexer": "ipython3",
   "version": "3.12.7"
  }
 },
 "nbformat": 4,
 "nbformat_minor": 5
}
