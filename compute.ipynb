{
 "cells": [
  {
   "cell_type": "raw",
   "id": "5ff01ecd-18de-4c42-9915-4027855de227",
   "metadata": {},
   "source": [
    "def mean_value(*n):\n",
    "    sum = 0\n",
    "    counter = 0\n",
    "    for x in n:\n",
    "        counter = counter +1\n",
    "        sum += x\n",
    "    mean = sum /counter\n",
    "    return mean"
   ]
  },
  {
   "cell_type": "code",
   "execution_count": 13,
   "id": "0d662f3d-4453-4654-ac45-4aa765aaf9b5",
   "metadata": {},
   "outputs": [],
   "source": [
    "# Find the product of given numbers\n",
    "def product(*n): \n",
    "    result = 1\n",
    "    for i  in range(len(n)): \n",
    "        result *= n[i]\n",
    "    return result"
   ]
  }
 ],
 "metadata": {
  "kernelspec": {
   "display_name": "Python 3 (ipykernel)",
   "language": "python",
   "name": "python3"
  },
  "language_info": {
   "codemirror_mode": {
    "name": "ipython",
    "version": 3
   },
   "file_extension": ".py",
   "mimetype": "text/x-python",
   "name": "python",
   "nbconvert_exporter": "python",
   "pygments_lexer": "ipython3",
   "version": "3.12.7"
  }
 },
 "nbformat": 4,
 "nbformat_minor": 5
}
